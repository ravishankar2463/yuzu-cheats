{
    "cells": [
        {
            "cell_type": "code",
            "execution_count": 1,
            "source": [
                "import pandas as pd\r\n",
                "import re"
            ],
            "outputs": [],
            "metadata": {}
        },
        {
            "cell_type": "code",
            "execution_count": 2,
            "source": [
                "df = pd.read_csv(\"GAMES.md\", sep=\"\\t\", header=None,names=[\"data\"])"
            ],
            "outputs": [],
            "metadata": {}
        },
        {
            "cell_type": "code",
            "execution_count": 3,
            "source": [
                "first_entry=5\r\n",
                "last_entry = 1609"
            ],
            "outputs": [],
            "metadata": {}
        },
        {
            "cell_type": "code",
            "execution_count": 60,
            "source": [
                "f = open(\"games.csv\", \"w\", encoding=\"utf-8\")\r\n",
                "f.write(\"No;NAME;TITLE ID;BUILD ID\"+ '\\n')"
            ],
            "outputs": [
                {
                    "output_type": "execute_result",
                    "data": {
                        "text/plain": [
                            "26"
                        ]
                    },
                    "metadata": {},
                    "execution_count": 60
                }
            ],
            "metadata": {}
        },
        {
            "cell_type": "code",
            "execution_count": 61,
            "source": [
                "for i in range(first_entry,last_entry+1):\r\n",
                "    data = df.iloc[i]['data']\r\n",
                "    data = data.split(\"|\")[1:-1]\r\n",
                "    serial_no = data[0].replace(\" \",\"\")\r\n",
                "    name = data[1].replace(\" \",\"\")\r\n",
                "    title_id = data[2].replace(\" \",\"\")\r\n",
                "    res = re.findall(r'\\[.*?\\]', title_id)\r\n",
                "    title_id = (str(res[0]).replace(\"[\",'')).replace(\"]\",'')\r\n",
                "    build_id = data[3].replace(\" \",\"\")\r\n",
                "    f.write(serial_no+\";\"+name+\";\"+title_id+\";\"+build_id+ '\\n')\r\n"
            ],
            "outputs": [],
            "metadata": {}
        },
        {
            "cell_type": "code",
            "execution_count": 62,
            "source": [
                "f.close()"
            ],
            "outputs": [],
            "metadata": {}
        }
    ],
    "metadata": {
        "orig_nbformat": 4,
        "language_info": {
            "name": "python",
            "version": "3.9.5",
            "mimetype": "text/x-python",
            "codemirror_mode": {
                "name": "ipython",
                "version": 3
            },
            "pygments_lexer": "ipython3",
            "nbconvert_exporter": "python",
            "file_extension": ".py"
        },
        "kernelspec": {
            "name": "python3",
            "display_name": "Python 3.9.5 64-bit"
        },
        "interpreter": {
            "hash": "63fd5069d213b44bf678585dea6b12cceca9941eaf7f819626cde1f2670de90d"
        }
    },
    "nbformat": 4,
    "nbformat_minor": 2
}